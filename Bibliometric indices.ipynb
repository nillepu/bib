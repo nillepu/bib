{
 "cells": [
  {
   "cell_type": "markdown",
   "metadata": {},
   "source": [
    "## My bibliometric indices\n",
    "\n",
    "I worked in two different fields, astronomy and astro-particle physics. Both fields follow different publication policies. In astronomy I worked in small teams, where every co-author contributes a significant amount of work to a paper. Astro-particle physics follows the same policies as particle physics. I was part of a large collaboration, where every collaboration member is co-author of every paper. The meaning of the indices is therefore different in astronomy and astro-particle physics, although topic-wise the fields are very similar and the journals are largely the same. Here I consider only my refereed contributions in astronomy. "
   ]
  },
  {
   "cell_type": "code",
   "execution_count": 648,
   "metadata": {
    "collapsed": false
   },
   "outputs": [],
   "source": [
    "import sys\n",
    "sys.path.append('/Library/Python/2.7/site-packages')\n",
    "import pandas as pd\n",
    "import matplotlib.pyplot as plt\n",
    "import math\n",
    "%matplotlib inline"
   ]
  },
  {
   "cell_type": "markdown",
   "metadata": {},
   "source": [
    "#### Publications and citations (from NASA/ADS custom query) \n",
    "http://goo.gl/YVTOBF"
   ]
  },
  {
   "cell_type": "code",
   "execution_count": 666,
   "metadata": {
    "collapsed": false
   },
   "outputs": [],
   "source": [
    "papers = pd.read_table('/Users/Nina/ADSpublicationlist.txt', sep='\\t', header=None, names=['ID','authors','title','year','journal','type','citations'])"
   ]
  },
  {
   "cell_type": "markdown",
   "metadata": {},
   "source": [
    "#### Prepare data"
   ]
  },
  {
   "cell_type": "code",
   "execution_count": 667,
   "metadata": {
    "collapsed": false
   },
   "outputs": [],
   "source": [
    "nauth = [] #add number of authors\n",
    "for authors in papers.authors:\n",
    "    nauth.append(len([x.strip() for x in authors.split(',')]))\n",
    "papers['nauth'] = pd.Series(nauth)"
   ]
  },
  {
   "cell_type": "code",
   "execution_count": 668,
   "metadata": {
    "collapsed": false
   },
   "outputs": [],
   "source": [
    "first_auth = [] #add first author\n",
    "for authors in papers.authors:\n",
    "    first_auth.append(authors.split(',')[0].strip())\n",
    "papers['first_auth'] = pd.Series(first_auth)"
   ]
  },
  {
   "cell_type": "code",
   "execution_count": 669,
   "metadata": {
    "collapsed": true
   },
   "outputs": [],
   "source": [
    "field = []  # add field\n",
    "for n in nauth:\n",
    "    if n<50:\n",
    "        field.append('a')\n",
    "    else:\n",
    "        field.append('m')\n",
    "papers['field'] = pd.Series(field)"
   ]
  },
  {
   "cell_type": "code",
   "execution_count": 670,
   "metadata": {
    "collapsed": true
   },
   "outputs": [],
   "source": [
    "ref = [] # add whether refereed or not\n",
    "for i in range(len(papers)):\n",
    "    if (papers.type[i].strip()=='INPROCEEDINGS') or (papers.ID[i]=='0'):\n",
    "        ref.append('n')\n",
    "    else:\n",
    "        ref.append('r')\n",
    "papers['ref'] = pd.Series(ref)"
   ]
  },
  {
   "cell_type": "markdown",
   "metadata": {},
   "source": [
    "### My publications"
   ]
  },
  {
   "cell_type": "code",
   "execution_count": 671,
   "metadata": {
    "collapsed": false
   },
   "outputs": [
    {
     "name": "stdout",
     "output_type": "stream",
     "text": [
      "I am author of  65 publications.\n",
      "44  are refereed,  21  are not refereed.\n",
      "31  are publications in the field of astronomy,  34  are in the field of astro-particle physics\n",
      "In astronomy, I am the first author of  7  papers, of which  3  are in peer-reviewed astronomy journals.\n"
     ]
    }
   ],
   "source": [
    "print \"I am author of \", papers.first_auth.count(), \"publications.\"\n",
    "print papers.ref[papers.ref == 'r'].count(), \" are refereed, \", papers.ref[papers.ref == 'n'].count(), \" are not refereed.\"\n",
    "print papers.field[papers.field == 'a'].count(), \" are publications in the field of astronomy, \", papers.field[papers.field == 'm'].count(), \" are in the field of astro-particle physics\"\n",
    "print \"In astronomy, I am the first author of \", papers.first_auth[papers.first_auth=='Nowak'].count(), \" papers, of which \", papers.first_auth[(papers.first_auth=='Nowak') & (papers.ref=='r')].count(), \" are in peer-reviewed astronomy journals.\" "
   ]
  },
  {
   "cell_type": "markdown",
   "metadata": {},
   "source": [
    "#### List of my refereed publications in astronomy"
   ]
  },
  {
   "cell_type": "code",
   "execution_count": 672,
   "metadata": {
    "collapsed": false
   },
   "outputs": [
    {
     "name": "stdout",
     "output_type": "stream",
     "text": [
      "1. Saglia et al.,  The SINFONI Black Hole Survey: The Black Hole Fundamental Plane Revisited and the Paths of (Co)evolution of Supermassive Black Holes and Bulges,  The Astrophysical Journal, 2016\n",
      "2. Erwin et al.,  Composite bulges: the coexistence of classical bulges and discy pseudo-bulges in S0 and spiral galaxies,  Monthly Notices of the Royal Astronomical Society, 2015\n",
      "3. Mazzalay et al.,  Molecular gas in the centre of nearby galaxies from VLT/SINFONI integral field spectroscopy - II. Kinematics,  Monthly Notices of the Royal Astronomical Society, 2014\n",
      "4. Rusli et al.,  Depleted Galaxy Cores and Dynamical Black Hole Masses,  The Astronomical Journal, 2013\n",
      "5. Rusli et al.,  The Influence of Dark Matter Halos on Dynamical Estimates of Black Hole Mass: 10 New Measurements for High-&sigma; Early-type Galaxies,  The Astronomical Journal, 2013\n",
      "6. B&ouml;hringer et al.,  The extended ROSAT-ESO flux limited X-ray galaxy cluster survey (REFLEX II) II. Construction and properties of the survey,  Astronomy and Astrophysics, 2013\n",
      "7. Chon et al.,  The extended ROSAT-ESO Flux-Limited X-ray Galaxy Cluster Survey (REFLEX II) - III. Construction of the first flux-limited supercluster sample,  Monthly Notices of the Royal Astronomical Society, 2013\n",
      "8. Mazzalay et al.,  Molecular gas in the centre of nearby galaxies from VLT/SINFONI integral field spectroscopy - I. Morphology and mass inventory,  Monthly Notices of the Royal Astronomical Society, 2013\n",
      "9. Rusli et al.,  The central black hole mass of the high-&sigma; but low-bulge-luminosity lenticular galaxy NGC 1332,  Monthly Notices of the Royal Astronomical Society, 2011\n",
      "10. Nowak et al.,  Do black hole masses scale with classical bulge luminosities only? The case of the two composite pseudo-bulge galaxies NGC 3368 and NGC 3489,  Monthly Notices of the Royal Astronomical Society, 2010\n",
      "11. Nowak et al.,  The supermassive black hole of FornaxA,  Monthly Notices of the Royal Astronomical Society, 2008\n",
      "12. Milvang-Jensen et al.,  Spectroscopy of clusters in the ESO distant cluster survey (EDisCS). II.. Redshifts, velocity dispersions, and substructure for clusters in the last 15 fields,  Astronomy and Astrophysics, 2008\n",
      "13. Nowak et al.,  The supermassive black hole in NGC4486a detected with SINFONI at the Very Large Telescope,  Monthly Notices of the Royal Astronomical Society, 2007\n",
      "14. B&ouml;hringer et al.,  Chandra Reveals Galaxy Cluster with the Most Massive Nearby Cooling Core: RXC J1504.1-0248,  The Astrophysical Journal, 2005\n"
     ]
    }
   ],
   "source": [
    "publist = papers[(papers.ref=='r') & (papers.field=='a')]\n",
    "publist.index = range(1,len(publist)+1)\n",
    "for i in range(1, len(publist)+1):\n",
    "    pub = str(i) + \". \" + publist.first_auth[[i]] + ' et al., ' + publist.title[i] + \", \" + publist.journal[i] + \", \" + str(publist.year[i]) \n",
    "    print pub.values[0]"
   ]
  },
  {
   "cell_type": "markdown",
   "metadata": {},
   "source": [
    "#### Summary statistics of the citations"
   ]
  },
  {
   "cell_type": "code",
   "execution_count": 673,
   "metadata": {
    "collapsed": false
   },
   "outputs": [
    {
     "data": {
      "text/plain": [
       "count    14.000000\n",
       "mean     30.714286\n",
       "std      17.455123\n",
       "min      10.000000\n",
       "25%      16.250000\n",
       "50%      27.000000\n",
       "75%      43.000000\n",
       "max      65.000000\n",
       "Name: citations, dtype: float64"
      ]
     },
     "execution_count": 673,
     "metadata": {},
     "output_type": "execute_result"
    }
   ],
   "source": [
    "publist.citations.describe()"
   ]
  },
  {
   "cell_type": "markdown",
   "metadata": {},
   "source": [
    "#### Publications per year"
   ]
  },
  {
   "cell_type": "code",
   "execution_count": 674,
   "metadata": {
    "collapsed": false
   },
   "outputs": [
    {
     "data": {
      "text/plain": [
       "<matplotlib.figure.Figure at 0x1131e1590>"
      ]
     },
     "metadata": {},
     "output_type": "display_data"
    },
    {
     "data": {
      "image/png": "[encoded data removed]",
      "text/plain": [
       "<matplotlib.figure.Figure at 0x113b90950>"
      ]
     },
     "metadata": {},
     "output_type": "display_data"
    }
   ],
   "source": [
    "count_papers = pd.DataFrame()\n",
    "count_papers['astro_ref'] = papers[(papers.ref=='r') & (papers.field=='a')].groupby('year').size()\n",
    "count_papers['astro_not_ref'] = papers[(papers.ref=='n') & (papers.field=='a')].groupby('year').size()\n",
    "count_papers['app_ref'] = papers[(papers.ref=='r') & (papers.field=='m')].groupby('year').size()\n",
    "count_papers['app_not_ref'] = papers[(papers.ref=='n') & (papers.field=='m')].groupby('year').size()\n",
    "plt.figure();\n",
    "pubs = count_papers[[0, 1, 2, 3]]\n",
    "pubs.plot.bar(stacked=True); "
   ]
  },
  {
   "cell_type": "markdown",
   "metadata": {},
   "source": [
    "### Bibliometric Indices for my refereed publications in astronomy"
   ]
  },
  {
   "cell_type": "markdown",
   "metadata": {},
   "source": [
    "#### 1. h-index"
   ]
  },
  {
   "cell_type": "code",
   "execution_count": 675,
   "metadata": {
    "collapsed": false
   },
   "outputs": [
    {
     "data": {
      "image/png": "[encoded data removed]",
      "text/plain": [
       "<matplotlib.figure.Figure at 0x1130d8c50>"
      ]
     },
     "metadata": {},
     "output_type": "display_data"
    }
   ],
   "source": [
    "cit_distr = papers.citations[(papers.field == 'a') & (papers.ref == 'r')].sort_values(ascending=False)\n",
    "cit_distr.index = range(1,len(cit_distr)+1)\n",
    "plt.figure(); cit_distr.plot(style='o');"
   ]
  },
  {
   "cell_type": "code",
   "execution_count": 676,
   "metadata": {
    "collapsed": false
   },
   "outputs": [
    {
     "name": "stdout",
     "output_type": "stream",
     "text": [
      "h-index = 12\n"
     ]
    }
   ],
   "source": [
    "h_index = max(cit_distr.index[cit_distr.values >= cit_distr.index])\n",
    "print 'h-index =', h_index"
   ]
  },
  {
   "cell_type": "markdown",
   "metadata": {},
   "source": [
    "#### 2. e-index\n",
    "e-index = sqrt of sum of excess citations above h"
   ]
  },
  {
   "cell_type": "code",
   "execution_count": 677,
   "metadata": {
    "collapsed": false
   },
   "outputs": [
    {
     "name": "stdout",
     "output_type": "stream",
     "text": [
      "e_index = 16.3095064303\n"
     ]
    }
   ],
   "source": [
    "e_index= 0\n",
    "for i in range(len(cit_distr)):\n",
    "    if i+1 <= h_index:\n",
    "        e_index = e_index + (cit_distr.values[i] - h_index)\n",
    "        \n",
    "e_index = math.sqrt(e_index)\n",
    "print 'e_index =', e_index"
   ]
  },
  {
   "cell_type": "markdown",
   "metadata": {},
   "source": [
    "#### 3. i10-index\n",
    "i10-index = number of papers with at least 10 citations"
   ]
  },
  {
   "cell_type": "code",
   "execution_count": 678,
   "metadata": {
    "collapsed": false
   },
   "outputs": [
    {
     "name": "stdout",
     "output_type": "stream",
     "text": [
      "i10-index = 14\n"
     ]
    }
   ],
   "source": [
    "i10_index = len(cit_distr.values[cit_distr.values >= 10])\n",
    "print 'i10-index =', i10_index"
   ]
  },
  {
   "cell_type": "markdown",
   "metadata": {},
   "source": [
    "#### 4. m-index\n",
    "m-index = h-index divided by time in years between first and most recent publication"
   ]
  },
  {
   "cell_type": "code",
   "execution_count": 679,
   "metadata": {
    "collapsed": false
   },
   "outputs": [
    {
     "name": "stdout",
     "output_type": "stream",
     "text": [
      "m-index = 0.923076923077\n"
     ]
    }
   ],
   "source": [
    "m_index = float(h_index) / (float(max(papers.year)) - float(min(papers.year)) + 1)\n",
    "print 'm-index =', m_index"
   ]
  },
  {
   "cell_type": "markdown",
   "metadata": {},
   "source": [
    "#### g-index for astro papers\n",
    "g-index = largest number such that the top g articles received together at least g^2 citations."
   ]
  },
  {
   "cell_type": "code",
   "execution_count": 680,
   "metadata": {
    "collapsed": false
   },
   "outputs": [
    {
     "data": {
      "image/png": "[encoded data removed]",
      "text/plain": [
       "<matplotlib.figure.Figure at 0x11347f850>"
      ]
     },
     "metadata": {},
     "output_type": "display_data"
    }
   ],
   "source": [
    "cit_distr = papers.citations[(papers.field == 'a') & (papers.ref == 'r')].sort_values(ascending=False).cumsum()\n",
    "cit_distr.index = (range(1,len(cit_distr)+1))\n",
    "plt.figure(); cit_distr.plot();"
   ]
  },
  {
   "cell_type": "code",
   "execution_count": 681,
   "metadata": {
    "collapsed": false
   },
   "outputs": [
    {
     "name": "stdout",
     "output_type": "stream",
     "text": [
      "g-index = 14\n"
     ]
    }
   ],
   "source": [
    "g_index = max(cit_distr.index[cit_distr.values >= (cit_distr.index * cit_distr.index)])\n",
    "print 'g-index =', g_index"
   ]
  },
  {
   "cell_type": "markdown",
   "metadata": {},
   "source": [
    "### Summary"
   ]
  },
  {
   "cell_type": "code",
   "execution_count": 682,
   "metadata": {
    "collapsed": false
   },
   "outputs": [
    {
     "name": "stdout",
     "output_type": "stream",
     "text": [
      "h-index      12.000000\n",
      "g-index      14.000000\n",
      "e-index      16.309506\n",
      "i10-index    14.000000\n",
      "m-index       0.923077\n",
      "dtype: float64\n"
     ]
    }
   ],
   "source": [
    "indices = pd.Series(data=[h_index, g_index, e_index, i10_index, m_index], index=['h-index','g-index','e-index','i10-index','m-index'])\n",
    "print indices"
   ]
  },
  {
   "cell_type": "markdown",
   "metadata": {},
   "source": [
    "The fact that I excluded a significant part of my research publications from this analysis makes my scientific performance look worse than it actually is. For a proper analysis, a suitable normalization would be needed here, e.g. field normalization as described in https://www.kth.se/en/kthb/publicering/bibliometri/guides-and-faq/bibliometric-basics2/field-normalized-citation-rate-1.546323."
   ]
  },
  {
   "cell_type": "code",
   "execution_count": null,
   "metadata": {
    "collapsed": true
   },
   "outputs": [],
   "source": []
  }
 ],
 "metadata": {
  "kernelspec": {
   "display_name": "Python 2",
   "language": "python",
   "name": "python2"
  },
  "language_info": {
   "codemirror_mode": {
    "name": "ipython",
    "version": 2
   },
   "file_extension": ".py",
   "mimetype": "text/x-python",
   "name": "python",
   "nbconvert_exporter": "python",
   "pygments_lexer": "ipython2",
   "version": "2.7.11"
  }
 },
 "nbformat": 4,
 "nbformat_minor": 0
}
